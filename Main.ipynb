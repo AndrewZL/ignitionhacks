{
  "nbformat": 4,
  "nbformat_minor": 0,
  "metadata": {
    "colab": {
      "name": "Main.ipynb",
      "provenance": [],
      "toc_visible": true,
      "include_colab_link": true
    },
    "kernelspec": {
      "name": "python3",
      "display_name": "Python 3"
    },
    "accelerator": "GPU"
  },
  "cells": [
    {
      "cell_type": "markdown",
      "metadata": {
        "id": "view-in-github",
        "colab_type": "text"
      },
      "source": [
        "<a href=\"https://colab.research.google.com/github/Positron23/ignitionhacks/blob/master/Main.ipynb\" target=\"_parent\"><img src=\"https://colab.research.google.com/assets/colab-badge.svg\" alt=\"Open In Colab\"/></a>"
      ]
    },
    {
      "cell_type": "markdown",
      "metadata": {
        "id": "hKoGvGaxqlPY",
        "colab_type": "text"
      },
      "source": [
        "# Initialization\n"
      ]
    },
    {
      "cell_type": "markdown",
      "metadata": {
        "id": "G2o8eYVOqwC2",
        "colab_type": "text"
      },
      "source": [
        "Check GPU"
      ]
    },
    {
      "cell_type": "code",
      "metadata": {
        "id": "i9-h3tbNLJQX",
        "colab_type": "code",
        "colab": {
          "base_uri": "https://localhost:8080/",
          "height": 384
        },
        "outputId": "a9606217-feff-488f-c7da-e6d11c86d6e5"
      },
      "source": [
        "!nvidia-smi"
      ],
      "execution_count": 1,
      "outputs": [
        {
          "output_type": "stream",
          "text": [
            "Mon Aug 24 03:58:23 2020       \n",
            "+-----------------------------------------------------------------------------+\n",
            "| NVIDIA-SMI 450.57       Driver Version: 418.67       CUDA Version: 10.1     |\n",
            "|-------------------------------+----------------------+----------------------+\n",
            "| GPU  Name        Persistence-M| Bus-Id        Disp.A | Volatile Uncorr. ECC |\n",
            "| Fan  Temp  Perf  Pwr:Usage/Cap|         Memory-Usage | GPU-Util  Compute M. |\n",
            "|                               |                      |               MIG M. |\n",
            "|===============================+======================+======================|\n",
            "|   0  Tesla K80           Off  | 00000000:00:04.0 Off |                    0 |\n",
            "| N/A   52C    P8    31W / 149W |      0MiB / 11441MiB |      0%      Default |\n",
            "|                               |                      |                 ERR! |\n",
            "+-------------------------------+----------------------+----------------------+\n",
            "                                                                               \n",
            "+-----------------------------------------------------------------------------+\n",
            "| Processes:                                                                  |\n",
            "|  GPU   GI   CI        PID   Type   Process name                  GPU Memory |\n",
            "|        ID   ID                                                   Usage      |\n",
            "|=============================================================================|\n",
            "|  No running processes found                                                 |\n",
            "+-----------------------------------------------------------------------------+\n"
          ],
          "name": "stdout"
        }
      ]
    },
    {
      "cell_type": "markdown",
      "metadata": {
        "id": "7yQvx1mDq3mP",
        "colab_type": "text"
      },
      "source": [
        "Install Tensorflow-GPU \n"
      ]
    },
    {
      "cell_type": "code",
      "metadata": {
        "id": "BY05zCipJMZW",
        "colab_type": "code",
        "colab": {
          "base_uri": "https://localhost:8080/",
          "height": 1000
        },
        "outputId": "051f350a-94d0-4740-c24d-981baa0cebeb"
      },
      "source": [
        "!pip install tensorflow-gpu\n",
        "!pip install tensorflow_text"
      ],
      "execution_count": 2,
      "outputs": [
        {
          "output_type": "stream",
          "text": [
            "Collecting tensorflow-gpu\n",
            "\u001b[?25l  Downloading https://files.pythonhosted.org/packages/0f/11/763f55d3d15efd778ef24453f126e6c33635680e5a2bb346da3fab5997cb/tensorflow_gpu-2.3.0-cp36-cp36m-manylinux2010_x86_64.whl (320.4MB)\n",
            "\u001b[K     |████████████████████████████████| 320.4MB 52kB/s \n",
            "\u001b[?25hRequirement already satisfied: opt-einsum>=2.3.2 in /usr/local/lib/python3.6/dist-packages (from tensorflow-gpu) (3.3.0)\n",
            "Requirement already satisfied: h5py<2.11.0,>=2.10.0 in /usr/local/lib/python3.6/dist-packages (from tensorflow-gpu) (2.10.0)\n",
            "Requirement already satisfied: gast==0.3.3 in /usr/local/lib/python3.6/dist-packages (from tensorflow-gpu) (0.3.3)\n",
            "Requirement already satisfied: keras-preprocessing<1.2,>=1.1.1 in /usr/local/lib/python3.6/dist-packages (from tensorflow-gpu) (1.1.2)\n",
            "Requirement already satisfied: protobuf>=3.9.2 in /usr/local/lib/python3.6/dist-packages (from tensorflow-gpu) (3.12.4)\n",
            "Requirement already satisfied: six>=1.12.0 in /usr/local/lib/python3.6/dist-packages (from tensorflow-gpu) (1.15.0)\n",
            "Requirement already satisfied: grpcio>=1.8.6 in /usr/local/lib/python3.6/dist-packages (from tensorflow-gpu) (1.31.0)\n",
            "Requirement already satisfied: astunparse==1.6.3 in /usr/local/lib/python3.6/dist-packages (from tensorflow-gpu) (1.6.3)\n",
            "Requirement already satisfied: termcolor>=1.1.0 in /usr/local/lib/python3.6/dist-packages (from tensorflow-gpu) (1.1.0)\n",
            "Requirement already satisfied: wrapt>=1.11.1 in /usr/local/lib/python3.6/dist-packages (from tensorflow-gpu) (1.12.1)\n",
            "Requirement already satisfied: wheel>=0.26 in /usr/local/lib/python3.6/dist-packages (from tensorflow-gpu) (0.34.2)\n",
            "Requirement already satisfied: absl-py>=0.7.0 in /usr/local/lib/python3.6/dist-packages (from tensorflow-gpu) (0.9.0)\n",
            "Requirement already satisfied: tensorboard<3,>=2.3.0 in /usr/local/lib/python3.6/dist-packages (from tensorflow-gpu) (2.3.0)\n",
            "Requirement already satisfied: scipy==1.4.1 in /usr/local/lib/python3.6/dist-packages (from tensorflow-gpu) (1.4.1)\n",
            "Requirement already satisfied: tensorflow-estimator<2.4.0,>=2.3.0 in /usr/local/lib/python3.6/dist-packages (from tensorflow-gpu) (2.3.0)\n",
            "Requirement already satisfied: google-pasta>=0.1.8 in /usr/local/lib/python3.6/dist-packages (from tensorflow-gpu) (0.2.0)\n",
            "Requirement already satisfied: numpy<1.19.0,>=1.16.0 in /usr/local/lib/python3.6/dist-packages (from tensorflow-gpu) (1.18.5)\n",
            "Requirement already satisfied: setuptools in /usr/local/lib/python3.6/dist-packages (from protobuf>=3.9.2->tensorflow-gpu) (49.2.0)\n",
            "Requirement already satisfied: requests<3,>=2.21.0 in /usr/local/lib/python3.6/dist-packages (from tensorboard<3,>=2.3.0->tensorflow-gpu) (2.23.0)\n",
            "Requirement already satisfied: markdown>=2.6.8 in /usr/local/lib/python3.6/dist-packages (from tensorboard<3,>=2.3.0->tensorflow-gpu) (3.2.2)\n",
            "Requirement already satisfied: google-auth-oauthlib<0.5,>=0.4.1 in /usr/local/lib/python3.6/dist-packages (from tensorboard<3,>=2.3.0->tensorflow-gpu) (0.4.1)\n",
            "Requirement already satisfied: tensorboard-plugin-wit>=1.6.0 in /usr/local/lib/python3.6/dist-packages (from tensorboard<3,>=2.3.0->tensorflow-gpu) (1.7.0)\n",
            "Requirement already satisfied: werkzeug>=0.11.15 in /usr/local/lib/python3.6/dist-packages (from tensorboard<3,>=2.3.0->tensorflow-gpu) (1.0.1)\n",
            "Requirement already satisfied: google-auth<2,>=1.6.3 in /usr/local/lib/python3.6/dist-packages (from tensorboard<3,>=2.3.0->tensorflow-gpu) (1.17.2)\n",
            "Requirement already satisfied: chardet<4,>=3.0.2 in /usr/local/lib/python3.6/dist-packages (from requests<3,>=2.21.0->tensorboard<3,>=2.3.0->tensorflow-gpu) (3.0.4)\n",
            "Requirement already satisfied: idna<3,>=2.5 in /usr/local/lib/python3.6/dist-packages (from requests<3,>=2.21.0->tensorboard<3,>=2.3.0->tensorflow-gpu) (2.10)\n",
            "Requirement already satisfied: urllib3!=1.25.0,!=1.25.1,<1.26,>=1.21.1 in /usr/local/lib/python3.6/dist-packages (from requests<3,>=2.21.0->tensorboard<3,>=2.3.0->tensorflow-gpu) (1.24.3)\n",
            "Requirement already satisfied: certifi>=2017.4.17 in /usr/local/lib/python3.6/dist-packages (from requests<3,>=2.21.0->tensorboard<3,>=2.3.0->tensorflow-gpu) (2020.6.20)\n",
            "Requirement already satisfied: importlib-metadata; python_version < \"3.8\" in /usr/local/lib/python3.6/dist-packages (from markdown>=2.6.8->tensorboard<3,>=2.3.0->tensorflow-gpu) (1.7.0)\n",
            "Requirement already satisfied: requests-oauthlib>=0.7.0 in /usr/local/lib/python3.6/dist-packages (from google-auth-oauthlib<0.5,>=0.4.1->tensorboard<3,>=2.3.0->tensorflow-gpu) (1.3.0)\n",
            "Requirement already satisfied: cachetools<5.0,>=2.0.0 in /usr/local/lib/python3.6/dist-packages (from google-auth<2,>=1.6.3->tensorboard<3,>=2.3.0->tensorflow-gpu) (4.1.1)\n",
            "Requirement already satisfied: pyasn1-modules>=0.2.1 in /usr/local/lib/python3.6/dist-packages (from google-auth<2,>=1.6.3->tensorboard<3,>=2.3.0->tensorflow-gpu) (0.2.8)\n",
            "Requirement already satisfied: rsa<5,>=3.1.4; python_version >= \"3\" in /usr/local/lib/python3.6/dist-packages (from google-auth<2,>=1.6.3->tensorboard<3,>=2.3.0->tensorflow-gpu) (4.6)\n",
            "Requirement already satisfied: zipp>=0.5 in /usr/local/lib/python3.6/dist-packages (from importlib-metadata; python_version < \"3.8\"->markdown>=2.6.8->tensorboard<3,>=2.3.0->tensorflow-gpu) (3.1.0)\n",
            "Requirement already satisfied: oauthlib>=3.0.0 in /usr/local/lib/python3.6/dist-packages (from requests-oauthlib>=0.7.0->google-auth-oauthlib<0.5,>=0.4.1->tensorboard<3,>=2.3.0->tensorflow-gpu) (3.1.0)\n",
            "Requirement already satisfied: pyasn1<0.5.0,>=0.4.6 in /usr/local/lib/python3.6/dist-packages (from pyasn1-modules>=0.2.1->google-auth<2,>=1.6.3->tensorboard<3,>=2.3.0->tensorflow-gpu) (0.4.8)\n",
            "Installing collected packages: tensorflow-gpu\n",
            "Successfully installed tensorflow-gpu-2.3.0\n",
            "Collecting tensorflow_text\n",
            "\u001b[?25l  Downloading https://files.pythonhosted.org/packages/28/b2/2dbd90b93913afd07e6101b8b84327c401c394e60141c1e98590038060b3/tensorflow_text-2.3.0-cp36-cp36m-manylinux1_x86_64.whl (2.6MB)\n",
            "\u001b[K     |████████████████████████████████| 2.6MB 2.8MB/s \n",
            "\u001b[?25hRequirement already satisfied: tensorflow<2.4,>=2.3.0 in /usr/local/lib/python3.6/dist-packages (from tensorflow_text) (2.3.0)\n",
            "Requirement already satisfied: absl-py>=0.7.0 in /usr/local/lib/python3.6/dist-packages (from tensorflow<2.4,>=2.3.0->tensorflow_text) (0.9.0)\n",
            "Requirement already satisfied: six>=1.12.0 in /usr/local/lib/python3.6/dist-packages (from tensorflow<2.4,>=2.3.0->tensorflow_text) (1.15.0)\n",
            "Requirement already satisfied: astunparse==1.6.3 in /usr/local/lib/python3.6/dist-packages (from tensorflow<2.4,>=2.3.0->tensorflow_text) (1.6.3)\n",
            "Requirement already satisfied: protobuf>=3.9.2 in /usr/local/lib/python3.6/dist-packages (from tensorflow<2.4,>=2.3.0->tensorflow_text) (3.12.4)\n",
            "Requirement already satisfied: tensorboard<3,>=2.3.0 in /usr/local/lib/python3.6/dist-packages (from tensorflow<2.4,>=2.3.0->tensorflow_text) (2.3.0)\n",
            "Requirement already satisfied: grpcio>=1.8.6 in /usr/local/lib/python3.6/dist-packages (from tensorflow<2.4,>=2.3.0->tensorflow_text) (1.31.0)\n",
            "Requirement already satisfied: numpy<1.19.0,>=1.16.0 in /usr/local/lib/python3.6/dist-packages (from tensorflow<2.4,>=2.3.0->tensorflow_text) (1.18.5)\n",
            "Requirement already satisfied: gast==0.3.3 in /usr/local/lib/python3.6/dist-packages (from tensorflow<2.4,>=2.3.0->tensorflow_text) (0.3.3)\n",
            "Requirement already satisfied: wrapt>=1.11.1 in /usr/local/lib/python3.6/dist-packages (from tensorflow<2.4,>=2.3.0->tensorflow_text) (1.12.1)\n",
            "Requirement already satisfied: scipy==1.4.1 in /usr/local/lib/python3.6/dist-packages (from tensorflow<2.4,>=2.3.0->tensorflow_text) (1.4.1)\n",
            "Requirement already satisfied: wheel>=0.26 in /usr/local/lib/python3.6/dist-packages (from tensorflow<2.4,>=2.3.0->tensorflow_text) (0.34.2)\n",
            "Requirement already satisfied: keras-preprocessing<1.2,>=1.1.1 in /usr/local/lib/python3.6/dist-packages (from tensorflow<2.4,>=2.3.0->tensorflow_text) (1.1.2)\n",
            "Requirement already satisfied: opt-einsum>=2.3.2 in /usr/local/lib/python3.6/dist-packages (from tensorflow<2.4,>=2.3.0->tensorflow_text) (3.3.0)\n",
            "Requirement already satisfied: termcolor>=1.1.0 in /usr/local/lib/python3.6/dist-packages (from tensorflow<2.4,>=2.3.0->tensorflow_text) (1.1.0)\n",
            "Requirement already satisfied: h5py<2.11.0,>=2.10.0 in /usr/local/lib/python3.6/dist-packages (from tensorflow<2.4,>=2.3.0->tensorflow_text) (2.10.0)\n",
            "Requirement already satisfied: tensorflow-estimator<2.4.0,>=2.3.0 in /usr/local/lib/python3.6/dist-packages (from tensorflow<2.4,>=2.3.0->tensorflow_text) (2.3.0)\n",
            "Requirement already satisfied: google-pasta>=0.1.8 in /usr/local/lib/python3.6/dist-packages (from tensorflow<2.4,>=2.3.0->tensorflow_text) (0.2.0)\n",
            "Requirement already satisfied: setuptools in /usr/local/lib/python3.6/dist-packages (from protobuf>=3.9.2->tensorflow<2.4,>=2.3.0->tensorflow_text) (49.2.0)\n",
            "Requirement already satisfied: requests<3,>=2.21.0 in /usr/local/lib/python3.6/dist-packages (from tensorboard<3,>=2.3.0->tensorflow<2.4,>=2.3.0->tensorflow_text) (2.23.0)\n",
            "Requirement already satisfied: google-auth-oauthlib<0.5,>=0.4.1 in /usr/local/lib/python3.6/dist-packages (from tensorboard<3,>=2.3.0->tensorflow<2.4,>=2.3.0->tensorflow_text) (0.4.1)\n",
            "Requirement already satisfied: tensorboard-plugin-wit>=1.6.0 in /usr/local/lib/python3.6/dist-packages (from tensorboard<3,>=2.3.0->tensorflow<2.4,>=2.3.0->tensorflow_text) (1.7.0)\n",
            "Requirement already satisfied: markdown>=2.6.8 in /usr/local/lib/python3.6/dist-packages (from tensorboard<3,>=2.3.0->tensorflow<2.4,>=2.3.0->tensorflow_text) (3.2.2)\n",
            "Requirement already satisfied: google-auth<2,>=1.6.3 in /usr/local/lib/python3.6/dist-packages (from tensorboard<3,>=2.3.0->tensorflow<2.4,>=2.3.0->tensorflow_text) (1.17.2)\n",
            "Requirement already satisfied: werkzeug>=0.11.15 in /usr/local/lib/python3.6/dist-packages (from tensorboard<3,>=2.3.0->tensorflow<2.4,>=2.3.0->tensorflow_text) (1.0.1)\n",
            "Requirement already satisfied: idna<3,>=2.5 in /usr/local/lib/python3.6/dist-packages (from requests<3,>=2.21.0->tensorboard<3,>=2.3.0->tensorflow<2.4,>=2.3.0->tensorflow_text) (2.10)\n",
            "Requirement already satisfied: certifi>=2017.4.17 in /usr/local/lib/python3.6/dist-packages (from requests<3,>=2.21.0->tensorboard<3,>=2.3.0->tensorflow<2.4,>=2.3.0->tensorflow_text) (2020.6.20)\n",
            "Requirement already satisfied: chardet<4,>=3.0.2 in /usr/local/lib/python3.6/dist-packages (from requests<3,>=2.21.0->tensorboard<3,>=2.3.0->tensorflow<2.4,>=2.3.0->tensorflow_text) (3.0.4)\n",
            "Requirement already satisfied: urllib3!=1.25.0,!=1.25.1,<1.26,>=1.21.1 in /usr/local/lib/python3.6/dist-packages (from requests<3,>=2.21.0->tensorboard<3,>=2.3.0->tensorflow<2.4,>=2.3.0->tensorflow_text) (1.24.3)\n",
            "Requirement already satisfied: requests-oauthlib>=0.7.0 in /usr/local/lib/python3.6/dist-packages (from google-auth-oauthlib<0.5,>=0.4.1->tensorboard<3,>=2.3.0->tensorflow<2.4,>=2.3.0->tensorflow_text) (1.3.0)\n",
            "Requirement already satisfied: importlib-metadata; python_version < \"3.8\" in /usr/local/lib/python3.6/dist-packages (from markdown>=2.6.8->tensorboard<3,>=2.3.0->tensorflow<2.4,>=2.3.0->tensorflow_text) (1.7.0)\n",
            "Requirement already satisfied: pyasn1-modules>=0.2.1 in /usr/local/lib/python3.6/dist-packages (from google-auth<2,>=1.6.3->tensorboard<3,>=2.3.0->tensorflow<2.4,>=2.3.0->tensorflow_text) (0.2.8)\n",
            "Requirement already satisfied: cachetools<5.0,>=2.0.0 in /usr/local/lib/python3.6/dist-packages (from google-auth<2,>=1.6.3->tensorboard<3,>=2.3.0->tensorflow<2.4,>=2.3.0->tensorflow_text) (4.1.1)\n",
            "Requirement already satisfied: rsa<5,>=3.1.4; python_version >= \"3\" in /usr/local/lib/python3.6/dist-packages (from google-auth<2,>=1.6.3->tensorboard<3,>=2.3.0->tensorflow<2.4,>=2.3.0->tensorflow_text) (4.6)\n",
            "Requirement already satisfied: oauthlib>=3.0.0 in /usr/local/lib/python3.6/dist-packages (from requests-oauthlib>=0.7.0->google-auth-oauthlib<0.5,>=0.4.1->tensorboard<3,>=2.3.0->tensorflow<2.4,>=2.3.0->tensorflow_text) (3.1.0)\n",
            "Requirement already satisfied: zipp>=0.5 in /usr/local/lib/python3.6/dist-packages (from importlib-metadata; python_version < \"3.8\"->markdown>=2.6.8->tensorboard<3,>=2.3.0->tensorflow<2.4,>=2.3.0->tensorflow_text) (3.1.0)\n",
            "Requirement already satisfied: pyasn1<0.5.0,>=0.4.6 in /usr/local/lib/python3.6/dist-packages (from pyasn1-modules>=0.2.1->google-auth<2,>=1.6.3->tensorboard<3,>=2.3.0->tensorflow<2.4,>=2.3.0->tensorflow_text) (0.4.8)\n",
            "Installing collected packages: tensorflow-text\n",
            "Successfully installed tensorflow-text-2.3.0\n"
          ],
          "name": "stdout"
        }
      ]
    },
    {
      "cell_type": "markdown",
      "metadata": {
        "id": "rH7UcCkJq7dt",
        "colab_type": "text"
      },
      "source": [
        "Import Packages"
      ]
    },
    {
      "cell_type": "code",
      "metadata": {
        "id": "HrbJenMbhD4N",
        "colab_type": "code",
        "colab": {}
      },
      "source": [
        "# DATA PROCESSING\n",
        "import numpy as np\n",
        "import pandas as pd\n",
        "import gzip # To utilize previously encoded data\n",
        "\n",
        "# DEEP LEARNING\n",
        "import tensorflow as tf \n",
        "from tensorflow import keras\n",
        "from sklearn.model_selection import train_test_split\n",
        "import tensorflow_hub as hub\n",
        "import tensorflow_text\n",
        "\n",
        "# PREPROCESSING\n",
        "import re\n",
        "import inflect\n",
        "import string, unicodedata\n",
        "import nltk\n",
        "from nltk.corpus import stopwords\n",
        "from nltk.stem import PorterStemmer\n",
        "from nltk.tokenize import sent_tokenize, word_tokenize\n",
        "\n",
        "# DATA DISPLAY\n",
        "import matplotlib.pyplot as plt\n",
        "from tqdm import tqdm #For showing progress bars"
      ],
      "execution_count": 3,
      "outputs": []
    },
    {
      "cell_type": "markdown",
      "metadata": {
        "id": "NCeZg4vJSVQ2",
        "colab_type": "text"
      },
      "source": [
        "# Preprocessing"
      ]
    },
    {
      "cell_type": "code",
      "metadata": {
        "id": "WQBs-iJ9kIX9",
        "colab_type": "code",
        "colab": {
          "base_uri": "https://localhost:8080/",
          "height": 35
        },
        "outputId": "e5f54048-538d-4e00-ef22-a10639f88682"
      },
      "source": [
        "# READ ORIGINAL DATA\n",
        "df = pd.read_csv('training_data.csv', usecols=['Text', 'Sentiment'])\n",
        "print(df.shape)"
      ],
      "execution_count": 5,
      "outputs": [
        {
          "output_type": "stream",
          "text": [
            "(218598, 2)\n"
          ],
          "name": "stdout"
        }
      ]
    },
    {
      "cell_type": "code",
      "metadata": {
        "id": "V6v6A8WroHXV",
        "colab_type": "code",
        "colab": {}
      },
      "source": [
        "# SET RANDOM SEED FOR REPRODUCIBLE TRAIN/DEV/TEST SETS\n",
        "RANDOM_SEED = 42\n",
        "np.random.seed(RANDOM_SEED)\n",
        "\n",
        "#tf.random.set_seed(RANDOM_SEED)"
      ],
      "execution_count": 34,
      "outputs": []
    },
    {
      "cell_type": "code",
      "metadata": {
        "id": "1_m0B6sHoHIp",
        "colab_type": "code",
        "colab": {}
      },
      "source": [
        "# SPLIT DATA\n",
        "train, test, y_train, y_test =\\\n",
        "  train_test_split(\n",
        "    df.Text, \n",
        "    df.Sentiment, \n",
        "    test_size=.1, \n",
        "    random_state=RANDOM_SEED)"
      ],
      "execution_count": 8,
      "outputs": []
    },
    {
      "cell_type": "code",
      "metadata": {
        "id": "2_7ktKK8lfTn",
        "colab_type": "code",
        "colab": {}
      },
      "source": [
        "# DOWNLOAD NATURAL LANGUAGE PREPROCESSING TOOLKITS\n",
        "nltk.download('punkt') # for stemming \n",
        "nltk.download('stopwords') # for stopwords\n",
        "porter = PorterStemmer() # create porter stemming algorithm object"
      ],
      "execution_count": 5,
      "outputs": []
    },
    {
      "cell_type": "code",
      "metadata": {
        "id": "bThxyrWJDvQ6",
        "colab_type": "code",
        "colab": {
          "base_uri": "https://localhost:8080/",
          "height": 164
        },
        "outputId": "18caa284-e5f6-4b95-af1c-c99c23b54476"
      },
      "source": [
        "# CHECK SHAPES AND DATA\n",
        "print(train.shape)\n",
        "print(test.shape)\n",
        "train.head()"
      ],
      "execution_count": 9,
      "outputs": [
        {
          "output_type": "stream",
          "text": [
            "(900000,)\n",
            "(100000,)\n"
          ],
          "name": "stdout"
        },
        {
          "output_type": "execute_result",
          "data": {
            "text/plain": [
              "378046    @plsdontgogurl That's the one. I wish I have a...\n",
              "510062               I just woke up and I feel soooo tired \n",
              "534815    @nainargrl I wish I could do that   I am not t...\n",
              "342590      @MariahCarey  lol hey i am in bed too cuddling \n",
              "559414    today i'm going to friend's house  it's gonna ...\n",
              "Name: Text, dtype: object"
            ]
          },
          "metadata": {
            "tags": []
          },
          "execution_count": 9
        }
      ]
    },
    {
      "cell_type": "markdown",
      "metadata": {
        "id": "8JlIhUNlq_Bw",
        "colab_type": "text"
      },
      "source": [
        "# Encoding\n"
      ]
    },
    {
      "cell_type": "markdown",
      "metadata": {
        "id": "0FZFXbYYrTsU",
        "colab_type": "text"
      },
      "source": [
        "## Extract from previously encoded data"
      ]
    },
    {
      "cell_type": "markdown",
      "metadata": {
        "id": "wonvW7sBfYt_",
        "colab_type": "text"
      },
      "source": [
        "Add training and test datasets to your drive by right clicking and selecting 'make a shortcut to your drive'. Afterwards, the output will prompt for an authentication password, which you can receive by allowing the file stream to access the drive in which the datasets are stored."
      ]
    },
    {
      "cell_type": "code",
      "metadata": {
        "id": "7VbuSXP0pHEN",
        "colab_type": "code",
        "colab": {}
      },
      "source": [
        "# from google.colab import drive\n",
        "# drive.mount(\"/content/drive\")"
      ],
      "execution_count": 3,
      "outputs": []
    },
    {
      "cell_type": "code",
      "metadata": {
        "id": "K2iPd_VSuJm6",
        "colab_type": "code",
        "colab": {}
      },
      "source": [
        "f=gzip.GzipFile('/content/drive/My Drive/train.npy.gz','r')\n",
        "X_train = np.load(f)\n",
        "X_train = np.array(X_train)\n",
        "f2=gzip.GzipFile('/content/drive/My Drive/test.npy.gz','r')\n",
        "X_test = np.load(f2)\n",
        "X_test = np.array(X_test)\n"
      ],
      "execution_count": 11,
      "outputs": []
    },
    {
      "cell_type": "markdown",
      "metadata": {
        "id": "oqAfus6sraAq",
        "colab_type": "text"
      },
      "source": [
        "## Re-encode data (~3 to 4 hours)\n"
      ]
    },
    {
      "cell_type": "code",
      "metadata": {
        "id": "pitgN_EpC2WJ",
        "colab_type": "code",
        "colab": {}
      },
      "source": [
        "# LOAD UNIVERAL SERIAL ENCODER\n",
        "use = hub.load(\"https://tfhub.dev/google/universal-sentence-encoder-multilingual-large/3\")\n"
      ],
      "execution_count": null,
      "outputs": []
    },
    {
      "cell_type": "code",
      "metadata": {
        "id": "szEzsQJ0rwiO",
        "colab_type": "code",
        "colab": {}
      },
      "source": [
        "## OLD ENCODING ALGORITHM ##\n",
        "# splitlist = np.array_split(trainlist,50)\n",
        "# # GET EMBEDDINGS\n",
        "# embedlist=[]\n",
        "# j=0\n",
        "# for i in splitlist:\n",
        "#   s = embed(i)\n",
        "#   for k in s:\n",
        "#     embedlist.append(k)\n",
        "#     j+=1\n",
        "#     print(j)"
      ],
      "execution_count": null,
      "outputs": []
    },
    {
      "cell_type": "markdown",
      "metadata": {
        "id": "vpHsrBC6r2ny",
        "colab_type": "text"
      },
      "source": [
        "Encoding Training and Test Sets\n"
      ]
    },
    {
      "cell_type": "code",
      "metadata": {
        "id": "l8bdM-kbDCz6",
        "colab_type": "code",
        "colab": {
          "base_uri": "https://localhost:8080/",
          "height": 35
        },
        "outputId": "1a29bd29-c2aa-4e23-8596-77c817a26caa"
      },
      "source": [
        "X_train = np.zeros((train.shape[0],512))\n",
        "i=0\n",
        "for r in tq.tqdm(trains):\n",
        "  X_train[i] = tf.reshape(use(r),[-1]).numpy()\n",
        "  i+=1"
      ],
      "execution_count": null,
      "outputs": [
        {
          "output_type": "stream",
          "text": [
            "100%|██████████| 900000/900000 [3:10:52<00:00, 78.59it/s]\n"
          ],
          "name": "stderr"
        }
      ]
    },
    {
      "cell_type": "code",
      "metadata": {
        "id": "kKEAbLBsL4y0",
        "colab_type": "code",
        "colab": {
          "base_uri": "https://localhost:8080/",
          "height": 35
        },
        "outputId": "39dc6280-57eb-444b-811f-27e3dfb3c464"
      },
      "source": [
        "X_test = np.zeros((test.shape[0],512))\n",
        "i=0\n",
        "for r in tq.tqdm(tests):\n",
        "  X_test[i] = tf.reshape(use(r),[-1]).numpy()\n",
        "  i+=1"
      ],
      "execution_count": null,
      "outputs": [
        {
          "output_type": "stream",
          "text": [
            "100%|██████████| 100000/100000 [20:38<00:00, 80.74it/s]\n"
          ],
          "name": "stderr"
        }
      ]
    },
    {
      "cell_type": "markdown",
      "metadata": {
        "id": "3GNwxoZUstro",
        "colab_type": "text"
      },
      "source": [
        "## Check Encodings\n"
      ]
    },
    {
      "cell_type": "markdown",
      "metadata": {
        "id": "g_chHEudr9J0",
        "colab_type": "text"
      },
      "source": [
        "Check if shapes and values are correct: Expected (n,512) 32-bit float vectors for feature train/test arrays and (n,) for labels"
      ]
    },
    {
      "cell_type": "code",
      "metadata": {
        "id": "0R9UhEMgL_QR",
        "colab_type": "code",
        "colab": {
          "base_uri": "https://localhost:8080/",
          "height": 274
        },
        "outputId": "3bc38158-27d8-447f-d63a-829ee80479c1"
      },
      "source": [
        "print(X_train.shape,X_test.shape,y_train.shape)\n",
        "print(X_test)"
      ],
      "execution_count": 12,
      "outputs": [
        {
          "output_type": "stream",
          "text": [
            "(900000, 512) (100000, 512) (900000,)\n",
            "[[-0.04484706 -0.0484597  -0.02886226 ... -0.01150637  0.01021791\n",
            "  -0.07051698]\n",
            " [ 0.01337283  0.0073399   0.03012324 ... -0.04162316  0.03671977\n",
            "  -0.03627334]\n",
            " [ 0.06179673 -0.02251715  0.02605925 ...  0.0276723  -0.04356809\n",
            "   0.05065024]\n",
            " ...\n",
            " [-0.00890851  0.01316289  0.01039192 ... -0.01220796 -0.0712463\n",
            "   0.10207573]\n",
            " [-0.05828437 -0.00819871  0.02271808 ... -0.03066864 -0.02567255\n",
            "   0.00929535]\n",
            " [-0.0683042   0.04698984  0.02167922 ... -0.05713771  0.00492626\n",
            "   0.04706876]]\n"
          ],
          "name": "stdout"
        }
      ]
    },
    {
      "cell_type": "markdown",
      "metadata": {
        "id": "zMOo-gqhsSqI",
        "colab_type": "text"
      },
      "source": [
        "Save Encodings and Compress"
      ]
    },
    {
      "cell_type": "code",
      "metadata": {
        "id": "SkV2M3tDBOYo",
        "colab_type": "code",
        "colab": {}
      },
      "source": [
        "f = gzip.GzipFile(\"train.npy.gz\", \"w\")\n",
        "np.save(file=f, arr=X_train)\n",
        "f.close()\n",
        "f2 = gzip.GzipFile(\"test.npy.gz\",\"w\")\n",
        "np.save(file=f2, arr=X_test)\n",
        "f2.close()\n",
        "\n",
        "## Non-compressed saving creates 12GB in filesize\n",
        "#np.savetxt('test.csv',X_train,delimiter=',')\n",
        "#np.savetxt('train.csv',X_test,delimiter=',')"
      ],
      "execution_count": null,
      "outputs": []
    },
    {
      "cell_type": "markdown",
      "metadata": {
        "id": "IuLnuWQirGCe",
        "colab_type": "text"
      },
      "source": [
        "\n",
        "# Dimensionality Reshaping for Alternate Models"
      ]
    },
    {
      "cell_type": "code",
      "metadata": {
        "id": "Ad-2LG_JF4gP",
        "colab_type": "code",
        "colab": {}
      },
      "source": [
        "# from sklearn.preprocessing import OneHotEncoder\n",
        "# y_train = OneHotEncoder(sparse=False).fit_transform(y_train.to_numpy().reshape(-1,1))\n",
        "# y_test = OneHotEncoder(sparse=False).fit_transform(y_test.to_numpy().reshape(-1,1))\n"
      ],
      "execution_count": null,
      "outputs": []
    },
    {
      "cell_type": "code",
      "metadata": {
        "id": "PaXBEF1Ue3fM",
        "colab_type": "code",
        "colab": {}
      },
      "source": [
        "# maxpolxtr = X_train.reshape(-1, 1, 512)\n",
        "# maxpolxte  = X_test.reshape(-1, 1, 512)\n",
        "# maxpolytr = np.array(y_train).reshape(-1, 1, 1)\n",
        "# maxpolyte = np.array(y_test).reshape(-1, 1, 1)"
      ],
      "execution_count": null,
      "outputs": []
    },
    {
      "cell_type": "markdown",
      "metadata": {
        "id": "s6RjvlsJrMMh",
        "colab_type": "text"
      },
      "source": [
        "# Model\n"
      ]
    },
    {
      "cell_type": "code",
      "metadata": {
        "id": "B1oi5lYA6eZg",
        "colab_type": "code",
        "colab": {}
      },
      "source": [
        "model = keras.Sequential()\n",
        "\n",
        "model.add(\n",
        "  keras.layers.Dense(\n",
        "    units=128,\n",
        "    input_shape=(X_train.shape[1], ),\n",
        "    activation='relu'\n",
        "  )\n",
        ")\n",
        "model.add(\n",
        "  keras.layers.Dropout(rate=0.5)\n",
        ")\n",
        "\n",
        "model.add(\n",
        "  keras.layers.Dense(\n",
        "    units=64,\n",
        "    kernel_regularizer='l2',\n",
        "    activation='relu'\n",
        "  )\n",
        ")\n",
        "model.add(\n",
        "  keras.layers.Dropout(rate=0.5)\n",
        ")\n",
        "\n",
        "# model.add(\n",
        "#   keras.layers.Dense(\n",
        "#     units=64,\n",
        "#     kernel_regularizer=keras.regularizers.l2(0.001),\n",
        "#     activation='relu'\n",
        "#   )\n",
        "# )\n",
        "# model.add(\n",
        "#   keras.layers.Dropout(rate=0.5)\n",
        "# )\n",
        "\n",
        "model.add(keras.layers.Dense(1, activation='sigmoid'))\n",
        "model.compile(\n",
        "    loss='binary_crossentropy', \n",
        "    optimizer=keras.optimizers.Adam(0.001),\n",
        "    metrics=['accuracy']\n",
        ")\n",
        "\n"
      ],
      "execution_count": 59,
      "outputs": []
    },
    {
      "cell_type": "code",
      "metadata": {
        "id": "74Dwg9W0bytC",
        "colab_type": "code",
        "colab": {}
      },
      "source": [
        "# model = keras.Sequential([\n",
        "#     keras.layers.GlobalMaxPooling1D(),\n",
        "#     keras.layers.Dense(256,activation='relu'),\n",
        "#     keras.layers.Dropout(0.3),\n",
        "#     keras.layers.Dense(128,activation='relu'),\n",
        "#     keras.layers.Dropout(0.5),\n",
        "#     keras.layers.Dense(64,activation='relu'),\n",
        "#     keras.layers.Dense(1, activation='sigmoid')\n",
        "# ])\n",
        "# model.compile(loss=\"binary_crossentropy\", optimizer=keras.optimizers,Adam(0.01), metrics=['accuracy'])"
      ],
      "execution_count": null,
      "outputs": []
    },
    {
      "cell_type": "markdown",
      "metadata": {
        "id": "M1dfRaWrcE9a",
        "colab_type": "text"
      },
      "source": [
        "#### CNN"
      ]
    },
    {
      "cell_type": "code",
      "metadata": {
        "id": "P7Dih_lhb0yI",
        "colab_type": "code",
        "colab": {}
      },
      "source": [
        "# model = tf.keras.Sequential([\n",
        "#     tf.keras.layers.Embedding(vocab_size, 16, input_length=max_len),\n",
        "#     tf.keras.layers.SeparableConv1D(16, 5, activation='relu', bias_initializer='random_uniform', depthwise_initializer='random_uniform', padding='same'),\n",
        "#     tf.keras.layers.GlobalMaxPooling1D(),\n",
        "#     tf.keras.layers.Dense(128, activation='relu'),\n",
        "#     tf.keras.layers.Dropout(0.5),\n",
        "#     tf.keras.layers.Dense(1, activation='sigmoid')\n",
        "# ])\n",
        "\n",
        "# model.compile(loss='binary_crossentropy', optimizer=tf.keras.optimizers.Adam(0.001), metrics=['accuracy'])\n"
      ],
      "execution_count": null,
      "outputs": []
    },
    {
      "cell_type": "markdown",
      "metadata": {
        "id": "r0c7miyLcB26",
        "colab_type": "text"
      },
      "source": [
        "#### Bidirectional LSTM"
      ]
    },
    {
      "cell_type": "code",
      "metadata": {
        "id": "SETa347Jb5Yz",
        "colab_type": "code",
        "colab": {}
      },
      "source": [
        "# model = tf.keras.Sequential([\n",
        "#     tf.keras.layers.Embedding(vocab_size, 16, input_length=max_len),\n",
        "#     tf.keras.layers.Bidirectional(tf.keras.layers.LSTM(16, return_sequences=True)),\n",
        "#     tf.keras.layers.Bidirectional(tf.keras.layers.LSTM(16)),\n",
        "#     tf.keras.layers.Dense(1, activation='sigmoid')\n",
        "# ])\n",
        "# model.compile(loss='binary_crossentropy', optimizer=tf.keras.optimizers.Adam(0.001), metrics=['accuracy'])"
      ],
      "execution_count": null,
      "outputs": []
    },
    {
      "cell_type": "markdown",
      "metadata": {
        "id": "GYaYEVYjbIi8",
        "colab_type": "text"
      },
      "source": [
        "####Early Stopping\n",
        "Determines which epoch model starts to overfit and lose validation accuracy"
      ]
    },
    {
      "cell_type": "code",
      "metadata": {
        "id": "06gm06pmbtvT",
        "colab_type": "code",
        "colab": {}
      },
      "source": [
        "class ResetStatesCallback(tf.keras.callbacks.Callback):\n",
        "    def on_epoch_begin(self, epoch, logs):\n",
        "        self.model.reset_states()"
      ],
      "execution_count": null,
      "outputs": []
    },
    {
      "cell_type": "code",
      "metadata": {
        "id": "FZX-ok6zbvOv",
        "colab_type": "code",
        "colab": {}
      },
      "source": [
        "reset_states = ResetStatesCallback()"
      ],
      "execution_count": null,
      "outputs": []
    },
    {
      "cell_type": "code",
      "metadata": {
        "id": "5oG8seDQbHOE",
        "colab_type": "code",
        "colab": {}
      },
      "source": [
        "early_stopping = tf.keras.callbacks.EarlyStopping(patience=50)\n",
        "model_checkpoint = tf.keras.callbacks.ModelCheckpoint(\"maincheckpoint.h5\", save_best_only=True)"
      ],
      "execution_count": null,
      "outputs": []
    },
    {
      "cell_type": "markdown",
      "metadata": {
        "id": "dchUPdcsbMN-",
        "colab_type": "text"
      },
      "source": [
        "Train\n",
        "\n",
        "\n",
        "*   8-10 Epochs\n",
        "*   Default learning rate (0.001)\n",
        "*   16 Batch Size"
      ]
    },
    {
      "cell_type": "code",
      "metadata": {
        "id": "8W6Al0qO62M-",
        "colab_type": "code",
        "colab": {
          "base_uri": "https://localhost:8080/",
          "height": 404
        },
        "outputId": "b4810d42-70e1-4f1b-8f87-9261a8e6acf2"
      },
      "source": [
        "history = model.fit(\n",
        "    X_train,y_train, \n",
        "    epochs=10, \n",
        "    batch_size=16, \n",
        "    validation_data=(X_test,y_test), \n",
        "    verbose=1, \n",
        "    shuffle=True\n",
        ")"
      ],
      "execution_count": 70,
      "outputs": [
        {
          "output_type": "stream",
          "text": [
            "Epoch 1/10\n",
            "56250/56250 [==============================] - 116s 2ms/step - loss: 0.4439 - accuracy: 0.8086 - val_loss: 0.4328 - val_accuracy: 0.8069\n",
            "Epoch 2/10\n",
            "56250/56250 [==============================] - 118s 2ms/step - loss: 0.4433 - accuracy: 0.8093 - val_loss: 0.4304 - val_accuracy: 0.8072\n",
            "Epoch 3/10\n",
            "56250/56250 [==============================] - 117s 2ms/step - loss: 0.4432 - accuracy: 0.8094 - val_loss: 0.4314 - val_accuracy: 0.8070\n",
            "Epoch 4/10\n",
            "56250/56250 [==============================] - 117s 2ms/step - loss: 0.4421 - accuracy: 0.8100 - val_loss: 0.4324 - val_accuracy: 0.8071\n",
            "Epoch 5/10\n",
            "56250/56250 [==============================] - 118s 2ms/step - loss: 0.4422 - accuracy: 0.8098 - val_loss: 0.4335 - val_accuracy: 0.8074\n",
            "Epoch 6/10\n",
            "56250/56250 [==============================] - 116s 2ms/step - loss: 0.4419 - accuracy: 0.8102 - val_loss: 0.4331 - val_accuracy: 0.8071\n",
            "Epoch 7/10\n",
            "56250/56250 [==============================] - 117s 2ms/step - loss: 0.4416 - accuracy: 0.8103 - val_loss: 0.4314 - val_accuracy: 0.8074\n",
            "Epoch 8/10\n",
            "56250/56250 [==============================] - 117s 2ms/step - loss: 0.4415 - accuracy: 0.8105 - val_loss: 0.4333 - val_accuracy: 0.8066\n",
            "Epoch 9/10\n",
            "56250/56250 [==============================] - 116s 2ms/step - loss: 0.4408 - accuracy: 0.8106 - val_loss: 0.4318 - val_accuracy: 0.8077\n",
            "Epoch 10/10\n",
            "56250/56250 [==============================] - 119s 2ms/step - loss: 0.4410 - accuracy: 0.8106 - val_loss: 0.4309 - val_accuracy: 0.8079\n"
          ],
          "name": "stdout"
        }
      ]
    },
    {
      "cell_type": "code",
      "metadata": {
        "id": "aDhIXBao6ZEX",
        "colab_type": "code",
        "colab": {
          "base_uri": "https://localhost:8080/",
          "height": 348
        },
        "outputId": "7ebdc5a3-e1ee-4dab-ef24-a2bf923b9c64"
      },
      "source": [
        "model.summary()"
      ],
      "execution_count": 65,
      "outputs": [
        {
          "output_type": "stream",
          "text": [
            "Model: \"sequential_11\"\n",
            "_________________________________________________________________\n",
            "Layer (type)                 Output Shape              Param #   \n",
            "=================================================================\n",
            "dense_24 (Dense)             (None, 128)               65664     \n",
            "_________________________________________________________________\n",
            "dropout_17 (Dropout)         (None, 128)               0         \n",
            "_________________________________________________________________\n",
            "dense_25 (Dense)             (None, 64)                8256      \n",
            "_________________________________________________________________\n",
            "dropout_18 (Dropout)         (None, 64)                0         \n",
            "_________________________________________________________________\n",
            "dense_26 (Dense)             (None, 1)                 65        \n",
            "=================================================================\n",
            "Total params: 73,985\n",
            "Trainable params: 73,985\n",
            "Non-trainable params: 0\n",
            "_________________________________________________________________\n"
          ],
          "name": "stdout"
        }
      ]
    },
    {
      "cell_type": "markdown",
      "metadata": {
        "id": "2s99DAp2ber1",
        "colab_type": "text"
      },
      "source": [
        "### Plot Model Metrics"
      ]
    },
    {
      "cell_type": "code",
      "metadata": {
        "id": "xmNDYiR81A5y",
        "colab_type": "code",
        "colab": {
          "base_uri": "https://localhost:8080/",
          "height": 297
        },
        "outputId": "ba4ee0e2-5df8-4696-f388-6bb131e41232"
      },
      "source": [
        "plt.plot(history.history['loss'], label='train loss')\n",
        "plt.plot(history.history['val_loss'], label='val loss')\n",
        "plt.xlabel(\"epoch\")\n",
        "plt.ylabel(\"accuracy\")\n",
        "plt.legend()"
      ],
      "execution_count": 71,
      "outputs": [
        {
          "output_type": "execute_result",
          "data": {
            "text/plain": [
              "<matplotlib.legend.Legend at 0x7f112d619908>"
            ]
          },
          "metadata": {
            "tags": []
          },
          "execution_count": 71
        },
        {
          "output_type": "display_data",
          "data": {
            "image/png": "[encoded data removed]",
            "text/plain": [
              "<Figure size 432x288 with 1 Axes>"
            ]
          },
          "metadata": {
            "tags": [],
            "needs_background": "light"
          }
        }
      ]
    },
    {
      "cell_type": "code",
      "metadata": {
        "id": "mTHBTVEoJfwa",
        "colab_type": "code",
        "colab": {
          "base_uri": "https://localhost:8080/",
          "height": 297
        },
        "outputId": "07c5c4f7-e144-44fb-8014-bed0fb4ba256"
      },
      "source": [
        "plt.plot(history.history['accuracy'], label='train accuracy')\n",
        "plt.plot(history.history['val_accuracy'], label='val accuracy')\n",
        "plt.xlabel(\"epoch\")\n",
        "plt.ylabel(\"accuracy\")\n",
        "plt.legend()"
      ],
      "execution_count": 72,
      "outputs": [
        {
          "output_type": "execute_result",
          "data": {
            "text/plain": [
              "<matplotlib.legend.Legend at 0x7f112d526358>"
            ]
          },
          "metadata": {
            "tags": []
          },
          "execution_count": 72
        },
        {
          "output_type": "display_data",
          "data": {
            "image/png": "[encoded data removed]",
            "text/plain": [
              "<Figure size 432x288 with 1 Axes>"
            ]
          },
          "metadata": {
            "tags": [],
            "needs_background": "light"
          }
        }
      ]
    },
    {
      "cell_type": "markdown",
      "metadata": {
        "id": "_54GH2VGrQK_",
        "colab_type": "text"
      },
      "source": [
        "Evaluation on Test Data\n"
      ]
    },
    {
      "cell_type": "code",
      "metadata": {
        "id": "xiSaRp69fz60",
        "colab_type": "code",
        "colab": {
          "base_uri": "https://localhost:8080/",
          "height": 54
        },
        "outputId": "47c361fb-c480-425b-a2f6-d5952980812b"
      },
      "source": [
        "model.evaluate(X_test, y_test)"
      ],
      "execution_count": 68,
      "outputs": [
        {
          "output_type": "stream",
          "text": [
            "3125/3125 [==============================] - 5s 1ms/step - loss: 0.4346 - accuracy: 0.8070\n"
          ],
          "name": "stdout"
        },
        {
          "output_type": "execute_result",
          "data": {
            "text/plain": [
              "[0.4346204698085785, 0.8069700002670288]"
            ]
          },
          "metadata": {
            "tags": []
          },
          "execution_count": 68
        }
      ]
    },
    {
      "cell_type": "code",
      "metadata": {
        "id": "Ov9rkBVaI1_U",
        "colab_type": "code",
        "colab": {}
      },
      "source": [
        "# Load the saved encoded dataset\n",
        "f3=gzip.GzipFile('/content/drive/My Drive/judgement.npy.gz','r')\n",
        "X_test = np.load(f)\n",
        "X_test = np.array(X_test)\n",
        "f4=gzip.GzipFile('/content/drive/My Drive/judgement2.npy.gz','r') # We split up our data to quickly encode it on multiple computers\n",
        "X_test2 = np.load(f)\n",
        "X_test2 = np.array(X_test2)\n",
        "# Concatentate Arrays Row-Wise\n",
        "X_test = np.concatenate((X_test,X_test2))\n",
        "# Load the original dataset\n",
        "testingdata = pd.read_csv('contestant_judgment.csv')\n",
        "# Predict sentiment from model\n",
        "pred=model.predict(X_test)\n",
        "# Write into csv\n",
        "testingdata['Sentiment']=pred\n",
        "testingdata.to_csv('predictions.csv')"
      ],
      "execution_count": 1,
      "outputs": []
    }
  ]
}